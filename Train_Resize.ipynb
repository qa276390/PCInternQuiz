{
 "cells": [
  {
   "cell_type": "code",
   "execution_count": 1,
   "metadata": {},
   "outputs": [
    {
     "name": "stderr",
     "output_type": "stream",
     "text": [
      "/home/tsai/anaconda3/envs/tensorflow/lib/python3.5/site-packages/h5py/__init__.py:36: FutureWarning: Conversion of the second argument of issubdtype from `float` to `np.floating` is deprecated. In future, it will be treated as `np.float64 == np.dtype(float).type`.\n",
      "  from ._conv import register_converters as _register_converters\n",
      "Using TensorFlow backend.\n"
     ]
    },
    {
     "name": "stdout",
     "output_type": "stream",
     "text": [
      "14510\n"
     ]
    }
   ],
   "source": [
    "import tensorflow as tf\n",
    "config = tf.ConfigProto()\n",
    "config.gpu_options.allow_growth = True\n",
    "sess = tf.Session(config = config)\n",
    "import numpy as np\n",
    "import matplotlib.pyplot as plt\n",
    "import pandas as pd\n",
    "import math\n",
    "from keras.utils.np_utils import to_categorical\n",
    "import keras\n",
    "import time\n",
    "import os\n",
    "import matplotlib.pyplot as plt\n",
    "import matplotlib.image as mpimg\n",
    "import shutil\n",
    "tStart = time.time()\n",
    "print(os.getpid())\n",
    "from sklearn.model_selection import train_test_split"
   ]
  },
  {
   "cell_type": "code",
   "execution_count": 2,
   "metadata": {},
   "outputs": [],
   "source": [
    "def Model2(config):\n",
    "    filt_size = (3, 3)\n",
    "    model2 = Sequential()\n",
    "    model2.add(Convolution2D(32, filt_size, input_shape=config.dim, activation='relu', padding='same'))\n",
    "    print(config.dim)\n",
    "    model2.add(Convolution2D(32, filt_size, activation='relu', padding='same'))\n",
    "    model2.add(BatchNormalization())\n",
    "    model2.add(MaxPooling2D((2,2)))\n",
    "    model2.add(Dropout(0.5))\n",
    "    \n",
    "    model2.add(Convolution2D(64, filt_size, activation='relu', padding='same'))\n",
    "    model2.add(Convolution2D(64, filt_size, activation='relu', padding='same'))\n",
    "    model2.add(BatchNormalization())\n",
    "    model2.add(MaxPooling2D((2,2)))\n",
    "    model2.add(Dropout(0.5))\n",
    "    \n",
    "    model2.add(Convolution2D(128, filt_size, activation='relu', padding='same'))\n",
    "    model2.add(Convolution2D(128, filt_size, activation='relu', padding='same'))\n",
    "    #model2.add(Convolution2D(128, filt_size, activation='relu', padding='same'))\n",
    "    model2.add(BatchNormalization())\n",
    "    model2.add(MaxPooling2D((2,2)))\n",
    "    model2.add(Dropout(0.5))\n",
    "    \n",
    "    model2.add(Convolution2D(256, filt_size, activation='relu', padding='same'))\n",
    "    #model2.add(Convolution2D(256, filt_size, activation='relu', padding='same'))\n",
    "    #model2.add(Convolution2D(256, filt_size, activation='relu', padding='same'))\n",
    "    model2.add(BatchNormalization())\n",
    "    model2.add(MaxPooling2D((2,2)))\n",
    "    model2.add(Dropout(0.5))\n",
    "    \n",
    "    \n",
    "    model2.add(Flatten())\n",
    "    model2.add(Dense(128, activation='relu'))\n",
    "    model2.add(BatchNormalization())\n",
    "    model2.add(Dropout(0.5))\n",
    "    model2.add(Dense(96, activation='relu'))\n",
    "    model2.add(BatchNormalization())\n",
    "    model2.add(Dropout(0.5))\n",
    "    model2.add(Dense(1))\n",
    "    model2.add(Activation('linear'))\n",
    "    \n",
    "    opt = optimizers.Adam(config.learning_rate)\n",
    "\n",
    "    model2.compile(optimizer=opt, loss=keras.losses.mean_squared_error, metrics=['mae'])\n",
    "    return model2\n",
    "\n",
    "def _shuffle(X, Y):\n",
    "    randomize = np.arange(len(X))\n",
    "    np.random.shuffle(randomize)\n",
    "\n",
    "    return (X[randomize], Y[randomize])\n",
    "\n",
    "def __shuffle(X):\n",
    "    randomize = np.arange(len(X))\n",
    "    np.random.shuffle(randomize)\n",
    "\n",
    "    return X[randomize]\n",
    "\n",
    "def split_valid_set(X_all, Y_all, percentage):\n",
    "    all_data_size = len(X_all)\n",
    "    valid_data_size = int(math.floor(all_data_size * percentage))\n",
    "\n",
    "    #X_all, Y_all = _shuffle(X_all, Y_all)\n",
    "\n",
    "    X_train, Y_train = X_all[0:valid_data_size], Y_all[0:valid_data_size]\n",
    "    X_valid, Y_valid = X_all[valid_data_size:], Y_all[valid_data_size:]\n",
    "\n",
    "    return X_train, Y_train, X_valid, Y_valid\n",
    "\n",
    "\n",
    "def split_valid_index(total_len, percentage):\n",
    "    all_data_size = total_len\n",
    "    valid_data_size = int(math.floor(all_data_size * percentage))\n",
    "\n",
    "    x = np.arange(total_len)\n",
    "    x_all = __shuffle(x)\n",
    "\n",
    "    return x_all[0:valid_data_size], x_all[valid_data_size:]"
   ]
  },
  {
   "cell_type": "code",
   "execution_count": 3,
   "metadata": {},
   "outputs": [],
   "source": [
    "def Parse_Data():\n",
    "    path = './data/feat.csv'\n",
    "    df = pd.read_pickle(path)\n",
    "    Y_train = df['corr']\n",
    "    #data = df.drop('corr', axis =1 )\n",
    "    data = df.feat\n",
    "    print(np.shape(data))\n",
    "    X_train = data\n",
    "\n",
    "\n",
    "    print(np.shape(X_train))\n",
    "    print(np.shape(Y_train))\n",
    "    \n",
    "    return X_train, Y_train\n",
    "\n"
   ]
  },
  {
   "cell_type": "code",
   "execution_count": 4,
   "metadata": {},
   "outputs": [
    {
     "name": "stdout",
     "output_type": "stream",
     "text": [
      "(150000,)\n",
      "(150000,)\n",
      "(150000,)\n"
     ]
    }
   ],
   "source": [
    "X, Y = Parse_Data()"
   ]
  },
  {
   "cell_type": "code",
   "execution_count": 5,
   "metadata": {},
   "outputs": [],
   "source": [
    "X = X/255"
   ]
  },
  {
   "cell_type": "code",
   "execution_count": 7,
   "metadata": {},
   "outputs": [
    {
     "name": "stdout",
     "output_type": "stream",
     "text": [
      "(150000, 75, 75, 3)\n"
     ]
    }
   ],
   "source": [
    "newX = np.zeros((np.shape(X)[0], np.shape(X[0])[0],  np.shape(X[0])[1], 3))\n",
    "print(np.shape(newX))"
   ]
  },
  {
   "cell_type": "code",
   "execution_count": 8,
   "metadata": {},
   "outputs": [],
   "source": [
    "for i in range(np.shape(X)[0]):\n",
    "    newX[i, :, :, :] = X[i]"
   ]
  },
  {
   "cell_type": "code",
   "execution_count": 9,
   "metadata": {
    "scrolled": true
   },
   "outputs": [],
   "source": [
    "#X_train = newX\n",
    "#y_train = Y\n",
    "X_train, y_train, X_test, y_test = split_valid_set(newX, Y, 0.33)\n",
    "# mem error if shuffle\n",
    "#X_train, X_test, y_train, y_test = train_test_split(newX, Y, test_size=0.33, random_state=42, shuffle=False)"
   ]
  },
  {
   "cell_type": "code",
   "execution_count": 10,
   "metadata": {},
   "outputs": [
    {
     "name": "stdout",
     "output_type": "stream",
     "text": [
      "(49500,)\n"
     ]
    }
   ],
   "source": [
    "print(np.shape(y_train))"
   ]
  },
  {
   "cell_type": "code",
   "execution_count": 11,
   "metadata": {},
   "outputs": [],
   "source": [
    "from keras.utils import Sequence, to_categorical\n",
    "from keras import backend as K"
   ]
  },
  {
   "cell_type": "code",
   "execution_count": 12,
   "metadata": {},
   "outputs": [],
   "source": [
    "class Config(object):\n",
    "    def __init__(self, learning_rate=0.001, max_epochs=50, dim = (75, 75, 3), n_folds = 5):\n",
    "    \n",
    "       \n",
    "        self.learning_rate = learning_rate\n",
    "        self.max_epochs = max_epochs\n",
    "        self.dim = dim\n",
    "        self.n_folds = n_folds"
   ]
  },
  {
   "cell_type": "code",
   "execution_count": 13,
   "metadata": {},
   "outputs": [],
   "source": [
    "config = Config(learning_rate=0.001,  dim = (75, 75, 3))"
   ]
  },
  {
   "cell_type": "code",
   "execution_count": 14,
   "metadata": {},
   "outputs": [],
   "source": [
    "# In[3]:\n",
    "\n",
    "from keras.models import Sequential\n",
    "from keras import optimizers\n",
    "from keras.layers import Dense, Activation, Flatten, Conv2D, MaxPooling2D,BatchNormalization, Dropout\n",
    "from keras.layers.convolutional import Convolution2D, MaxPooling2D, ZeroPadding2D\n",
    "from keras.optimizers import SGD\n",
    "from keras.preprocessing.image import ImageDataGenerator\n",
    "from sklearn.model_selection import StratifiedKFold\n",
    "\n",
    "from keras.callbacks import (EarlyStopping, LearningRateScheduler,\n",
    "                             ModelCheckpoint, TensorBoard, ReduceLROnPlateau)\n",
    "\n"
   ]
  },
  {
   "cell_type": "code",
   "execution_count": 15,
   "metadata": {},
   "outputs": [],
   "source": [
    "PREDICTION_FOLDER = \"resize_img_only\"\n",
    "if not os.path.exists(PREDICTION_FOLDER):\n",
    "    os.mkdir(PREDICTION_FOLDER)\n",
    "if os.path.exists('logs/' + PREDICTION_FOLDER):\n",
    "    shutil.rmtree('logs/' + PREDICTION_FOLDER)"
   ]
  },
  {
   "cell_type": "code",
   "execution_count": 16,
   "metadata": {
    "scrolled": true
   },
   "outputs": [
    {
     "name": "stdout",
     "output_type": "stream",
     "text": [
      "(75, 75, 3)\n",
      "_________________________________________________________________\n",
      "Layer (type)                 Output Shape              Param #   \n",
      "=================================================================\n",
      "conv2d_1 (Conv2D)            (None, 75, 75, 32)        896       \n",
      "_________________________________________________________________\n",
      "conv2d_2 (Conv2D)            (None, 75, 75, 32)        9248      \n",
      "_________________________________________________________________\n",
      "batch_normalization_1 (Batch (None, 75, 75, 32)        128       \n",
      "_________________________________________________________________\n",
      "max_pooling2d_1 (MaxPooling2 (None, 37, 37, 32)        0         \n",
      "_________________________________________________________________\n",
      "dropout_1 (Dropout)          (None, 37, 37, 32)        0         \n",
      "_________________________________________________________________\n",
      "conv2d_3 (Conv2D)            (None, 37, 37, 64)        18496     \n",
      "_________________________________________________________________\n",
      "conv2d_4 (Conv2D)            (None, 37, 37, 64)        36928     \n",
      "_________________________________________________________________\n",
      "batch_normalization_2 (Batch (None, 37, 37, 64)        256       \n",
      "_________________________________________________________________\n",
      "max_pooling2d_2 (MaxPooling2 (None, 18, 18, 64)        0         \n",
      "_________________________________________________________________\n",
      "dropout_2 (Dropout)          (None, 18, 18, 64)        0         \n",
      "_________________________________________________________________\n",
      "conv2d_5 (Conv2D)            (None, 18, 18, 128)       73856     \n",
      "_________________________________________________________________\n",
      "conv2d_6 (Conv2D)            (None, 18, 18, 128)       147584    \n",
      "_________________________________________________________________\n",
      "batch_normalization_3 (Batch (None, 18, 18, 128)       512       \n",
      "_________________________________________________________________\n",
      "max_pooling2d_3 (MaxPooling2 (None, 9, 9, 128)         0         \n",
      "_________________________________________________________________\n",
      "dropout_3 (Dropout)          (None, 9, 9, 128)         0         \n",
      "_________________________________________________________________\n",
      "conv2d_7 (Conv2D)            (None, 9, 9, 256)         295168    \n",
      "_________________________________________________________________\n",
      "batch_normalization_4 (Batch (None, 9, 9, 256)         1024      \n",
      "_________________________________________________________________\n",
      "max_pooling2d_4 (MaxPooling2 (None, 4, 4, 256)         0         \n",
      "_________________________________________________________________\n",
      "dropout_4 (Dropout)          (None, 4, 4, 256)         0         \n",
      "_________________________________________________________________\n",
      "flatten_1 (Flatten)          (None, 4096)              0         \n",
      "_________________________________________________________________\n",
      "dense_1 (Dense)              (None, 128)               524416    \n",
      "_________________________________________________________________\n",
      "batch_normalization_5 (Batch (None, 128)               512       \n",
      "_________________________________________________________________\n",
      "dropout_5 (Dropout)          (None, 128)               0         \n",
      "_________________________________________________________________\n",
      "dense_2 (Dense)              (None, 96)                12384     \n",
      "_________________________________________________________________\n",
      "batch_normalization_6 (Batch (None, 96)                384       \n",
      "_________________________________________________________________\n",
      "dropout_6 (Dropout)          (None, 96)                0         \n",
      "_________________________________________________________________\n",
      "dense_3 (Dense)              (None, 1)                 97        \n",
      "_________________________________________________________________\n",
      "activation_1 (Activation)    (None, 1)                 0         \n",
      "=================================================================\n",
      "Total params: 1,121,889\n",
      "Trainable params: 1,120,481\n",
      "Non-trainable params: 1,408\n",
      "_________________________________________________________________\n",
      "Train on 37125 samples, validate on 12375 samples\n",
      "Epoch 1/100\n",
      "37125/37125 [==============================] - 38s 1ms/step - loss: 1.6862 - mean_absolute_error: 0.9767 - val_loss: 4.4673 - val_mean_absolute_error: 1.8046\n",
      "\n",
      "Epoch 00001: val_loss improved from inf to 4.46733, saving model to resize_img_onlybest.h5\n",
      "Epoch 2/100\n",
      "37125/37125 [==============================] - 30s 819us/step - loss: 0.3677 - mean_absolute_error: 0.4622 - val_loss: 0.8930 - val_mean_absolute_error: 0.7701\n",
      "\n",
      "Epoch 00002: val_loss improved from 4.46733 to 0.89302, saving model to resize_img_onlybest.h5\n",
      "Epoch 3/100\n",
      "37125/37125 [==============================] - 30s 818us/step - loss: 0.1006 - mean_absolute_error: 0.2437 - val_loss: 0.3002 - val_mean_absolute_error: 0.4312\n",
      "\n",
      "Epoch 00003: val_loss improved from 0.89302 to 0.30023, saving model to resize_img_onlybest.h5\n",
      "Epoch 4/100\n",
      "37125/37125 [==============================] - 30s 820us/step - loss: 0.0431 - mean_absolute_error: 0.1630 - val_loss: 0.3144 - val_mean_absolute_error: 0.4263\n",
      "\n",
      "Epoch 00004: val_loss did not improve from 0.30023\n",
      "Epoch 5/100\n",
      "37125/37125 [==============================] - 30s 820us/step - loss: 0.0302 - mean_absolute_error: 0.1378 - val_loss: 0.2828 - val_mean_absolute_error: 0.4126\n",
      "\n",
      "Epoch 00005: val_loss improved from 0.30023 to 0.28275, saving model to resize_img_onlybest.h5\n",
      "Epoch 6/100\n",
      "37125/37125 [==============================] - 30s 818us/step - loss: 0.0253 - mean_absolute_error: 0.1261 - val_loss: 0.1651 - val_mean_absolute_error: 0.3306\n",
      "\n",
      "Epoch 00006: val_loss improved from 0.28275 to 0.16511, saving model to resize_img_onlybest.h5\n",
      "Epoch 7/100\n",
      "37125/37125 [==============================] - 30s 821us/step - loss: 0.0229 - mean_absolute_error: 0.1198 - val_loss: 0.1728 - val_mean_absolute_error: 0.3318\n",
      "\n",
      "Epoch 00007: val_loss did not improve from 0.16511\n",
      "Epoch 8/100\n",
      "37125/37125 [==============================] - 30s 819us/step - loss: 0.0209 - mean_absolute_error: 0.1144 - val_loss: 0.1262 - val_mean_absolute_error: 0.2901\n",
      "\n",
      "Epoch 00008: val_loss improved from 0.16511 to 0.12621, saving model to resize_img_onlybest.h5\n",
      "Epoch 9/100\n",
      "37125/37125 [==============================] - 30s 820us/step - loss: 0.0195 - mean_absolute_error: 0.1104 - val_loss: 0.1094 - val_mean_absolute_error: 0.2653\n",
      "\n",
      "Epoch 00009: val_loss improved from 0.12621 to 0.10939, saving model to resize_img_onlybest.h5\n",
      "Epoch 10/100\n",
      "37125/37125 [==============================] - 30s 820us/step - loss: 0.0182 - mean_absolute_error: 0.1063 - val_loss: 0.0931 - val_mean_absolute_error: 0.2464\n",
      "\n",
      "Epoch 00010: val_loss improved from 0.10939 to 0.09309, saving model to resize_img_onlybest.h5\n",
      "Epoch 11/100\n",
      "37125/37125 [==============================] - 31s 822us/step - loss: 0.0169 - mean_absolute_error: 0.1026 - val_loss: 0.0829 - val_mean_absolute_error: 0.2363\n",
      "\n",
      "Epoch 00011: val_loss improved from 0.09309 to 0.08286, saving model to resize_img_onlybest.h5\n",
      "Epoch 12/100\n",
      "37125/37125 [==============================] - 30s 820us/step - loss: 0.0162 - mean_absolute_error: 0.0998 - val_loss: 0.0701 - val_mean_absolute_error: 0.2194\n",
      "\n",
      "Epoch 00012: val_loss improved from 0.08286 to 0.07009, saving model to resize_img_onlybest.h5\n",
      "Epoch 13/100\n",
      "37125/37125 [==============================] - 30s 821us/step - loss: 0.0155 - mean_absolute_error: 0.0977 - val_loss: 0.0649 - val_mean_absolute_error: 0.2017\n",
      "\n",
      "Epoch 00013: val_loss improved from 0.07009 to 0.06489, saving model to resize_img_onlybest.h5\n",
      "Epoch 14/100\n",
      "37125/37125 [==============================] - 30s 820us/step - loss: 0.0148 - mean_absolute_error: 0.0953 - val_loss: 0.0548 - val_mean_absolute_error: 0.1949\n",
      "\n",
      "Epoch 00014: val_loss improved from 0.06489 to 0.05480, saving model to resize_img_onlybest.h5\n",
      "Epoch 15/100\n",
      "37125/37125 [==============================] - 30s 821us/step - loss: 0.0143 - mean_absolute_error: 0.0939 - val_loss: 0.0465 - val_mean_absolute_error: 0.1764\n",
      "\n",
      "Epoch 00015: val_loss improved from 0.05480 to 0.04648, saving model to resize_img_onlybest.h5\n",
      "Epoch 16/100\n",
      "37125/37125 [==============================] - 30s 820us/step - loss: 0.0140 - mean_absolute_error: 0.0926 - val_loss: 0.0368 - val_mean_absolute_error: 0.1561\n"
     ]
    },
    {
     "name": "stdout",
     "output_type": "stream",
     "text": [
      "\n",
      "Epoch 00016: val_loss improved from 0.04648 to 0.03677, saving model to resize_img_onlybest.h5\n",
      "Epoch 17/100\n",
      "37125/37125 [==============================] - 30s 819us/step - loss: 0.0135 - mean_absolute_error: 0.0908 - val_loss: 0.0442 - val_mean_absolute_error: 0.1750\n",
      "\n",
      "Epoch 00017: val_loss did not improve from 0.03677\n",
      "Epoch 18/100\n",
      "37125/37125 [==============================] - 30s 819us/step - loss: 0.0135 - mean_absolute_error: 0.0902 - val_loss: 0.0330 - val_mean_absolute_error: 0.1488\n",
      "\n",
      "Epoch 00018: val_loss improved from 0.03677 to 0.03300, saving model to resize_img_onlybest.h5\n",
      "Epoch 19/100\n",
      "37125/37125 [==============================] - 30s 820us/step - loss: 0.0135 - mean_absolute_error: 0.0905 - val_loss: 0.0272 - val_mean_absolute_error: 0.1348\n",
      "\n",
      "Epoch 00019: val_loss improved from 0.03300 to 0.02722, saving model to resize_img_onlybest.h5\n",
      "Epoch 20/100\n",
      "37125/37125 [==============================] - 31s 822us/step - loss: 0.0133 - mean_absolute_error: 0.0896 - val_loss: 0.0267 - val_mean_absolute_error: 0.1339\n",
      "\n",
      "Epoch 00020: val_loss improved from 0.02722 to 0.02671, saving model to resize_img_onlybest.h5\n",
      "Epoch 21/100\n",
      "37125/37125 [==============================] - 30s 820us/step - loss: 0.0122 - mean_absolute_error: 0.0862 - val_loss: 0.0369 - val_mean_absolute_error: 0.1575\n",
      "\n",
      "Epoch 00021: val_loss did not improve from 0.02671\n",
      "Epoch 22/100\n",
      "37125/37125 [==============================] - 30s 820us/step - loss: 0.0119 - mean_absolute_error: 0.0852 - val_loss: 0.0351 - val_mean_absolute_error: 0.1555\n",
      "\n",
      "Epoch 00022: val_loss did not improve from 0.02671\n",
      "Epoch 23/100\n",
      "37125/37125 [==============================] - 30s 821us/step - loss: 0.0124 - mean_absolute_error: 0.0867 - val_loss: 0.0163 - val_mean_absolute_error: 0.1014\n",
      "\n",
      "Epoch 00023: val_loss improved from 0.02671 to 0.01631, saving model to resize_img_onlybest.h5\n",
      "Epoch 24/100\n",
      "37125/37125 [==============================] - 30s 820us/step - loss: 0.0115 - mean_absolute_error: 0.0834 - val_loss: 0.0237 - val_mean_absolute_error: 0.1253\n",
      "\n",
      "Epoch 00024: val_loss did not improve from 0.01631\n",
      "Epoch 25/100\n",
      "37125/37125 [==============================] - 30s 820us/step - loss: 0.0115 - mean_absolute_error: 0.0836 - val_loss: 0.0336 - val_mean_absolute_error: 0.1515\n",
      "\n",
      "Epoch 00025: val_loss did not improve from 0.01631\n",
      "Epoch 26/100\n",
      "37125/37125 [==============================] - 31s 822us/step - loss: 0.0111 - mean_absolute_error: 0.0820 - val_loss: 0.0198 - val_mean_absolute_error: 0.1128\n",
      "\n",
      "Epoch 00026: val_loss did not improve from 0.01631\n",
      "Epoch 27/100\n",
      "37125/37125 [==============================] - 30s 820us/step - loss: 0.0111 - mean_absolute_error: 0.0819 - val_loss: 0.0263 - val_mean_absolute_error: 0.1317\n",
      "\n",
      "Epoch 00027: val_loss did not improve from 0.01631\n",
      "Epoch 28/100\n",
      "37125/37125 [==============================] - 30s 820us/step - loss: 0.0109 - mean_absolute_error: 0.0812 - val_loss: 0.0217 - val_mean_absolute_error: 0.1191\n",
      "\n",
      "Epoch 00028: val_loss did not improve from 0.01631\n",
      "Epoch 29/100\n",
      "37125/37125 [==============================] - 30s 822us/step - loss: 0.0105 - mean_absolute_error: 0.0798 - val_loss: 0.0312 - val_mean_absolute_error: 0.1448\n",
      "\n",
      "Epoch 00029: val_loss did not improve from 0.01631\n",
      "Epoch 30/100\n",
      "37125/37125 [==============================] - 30s 820us/step - loss: 0.0114 - mean_absolute_error: 0.0826 - val_loss: 0.0125 - val_mean_absolute_error: 0.0887\n",
      "\n",
      "Epoch 00030: val_loss improved from 0.01631 to 0.01250, saving model to resize_img_onlybest.h5\n",
      "Epoch 31/100\n",
      "37125/37125 [==============================] - 30s 821us/step - loss: 0.0111 - mean_absolute_error: 0.0815 - val_loss: 0.0270 - val_mean_absolute_error: 0.1339\n",
      "\n",
      "Epoch 00031: val_loss did not improve from 0.01250\n",
      "Epoch 32/100\n",
      "37125/37125 [==============================] - 30s 821us/step - loss: 0.0113 - mean_absolute_error: 0.0821 - val_loss: 0.0233 - val_mean_absolute_error: 0.1249\n",
      "\n",
      "Epoch 00032: val_loss did not improve from 0.01250\n",
      "Epoch 33/100\n",
      "37125/37125 [==============================] - 30s 821us/step - loss: 0.0103 - mean_absolute_error: 0.0787 - val_loss: 0.0282 - val_mean_absolute_error: 0.1384\n",
      "\n",
      "Epoch 00033: val_loss did not improve from 0.01250\n",
      "Epoch 34/100\n",
      "37125/37125 [==============================] - 30s 820us/step - loss: 0.0095 - mean_absolute_error: 0.0760 - val_loss: 0.0335 - val_mean_absolute_error: 0.1516\n",
      "\n",
      "Epoch 00034: val_loss did not improve from 0.01250\n",
      "Epoch 35/100\n",
      "37125/37125 [==============================] - 30s 820us/step - loss: 0.0100 - mean_absolute_error: 0.0773 - val_loss: 0.0255 - val_mean_absolute_error: 0.1317\n",
      "\n",
      "Epoch 00035: val_loss did not improve from 0.01250\n",
      "Epoch 36/100\n",
      "37125/37125 [==============================] - 30s 821us/step - loss: 0.0109 - mean_absolute_error: 0.0805 - val_loss: 0.0258 - val_mean_absolute_error: 0.1315\n",
      "\n",
      "Epoch 00036: val_loss did not improve from 0.01250\n",
      "Epoch 37/100\n",
      "37125/37125 [==============================] - 30s 820us/step - loss: 0.0095 - mean_absolute_error: 0.0757 - val_loss: 0.0273 - val_mean_absolute_error: 0.1352\n",
      "\n",
      "Epoch 00037: val_loss did not improve from 0.01250\n",
      "Epoch 38/100\n",
      "37125/37125 [==============================] - 30s 822us/step - loss: 0.0095 - mean_absolute_error: 0.0755 - val_loss: 0.0435 - val_mean_absolute_error: 0.1731\n",
      "\n",
      "Epoch 00038: val_loss did not improve from 0.01250\n",
      "Epoch 39/100\n",
      "37125/37125 [==============================] - 30s 820us/step - loss: 0.0101 - mean_absolute_error: 0.0775 - val_loss: 0.0299 - val_mean_absolute_error: 0.1424\n",
      "\n",
      "Epoch 00039: val_loss did not improve from 0.01250\n",
      "Epoch 40/100\n",
      "37125/37125 [==============================] - 30s 820us/step - loss: 0.0094 - mean_absolute_error: 0.0748 - val_loss: 0.0333 - val_mean_absolute_error: 0.1489\n",
      "\n",
      "Epoch 00040: val_loss did not improve from 0.01250\n"
     ]
    }
   ],
   "source": [
    "\n",
    "checkpoint = ModelCheckpoint(PREDICTION_FOLDER + '/best.h5', monitor='val_loss', verbose=1, save_best_only=True)\n",
    "early = EarlyStopping(monitor=\"val_loss\", mode=\"min\", patience=10)\n",
    "tb = TensorBoard(log_dir='./logs/' + PREDICTION_FOLDER, write_graph=True)\n",
    "\n",
    "callbacks_list = [checkpoint, early, tb]\n",
    "\n",
    "model = Model2(config)\n",
    "model.summary()\n",
    "\n",
    "history =  model.fit(X_train, y_train, batch_size = 256, validation_split = 0.25, epochs = 100, verbose = 1, callbacks=callbacks_list)\n",
    "\n"
   ]
  },
  {
   "cell_type": "code",
   "execution_count": 17,
   "metadata": {},
   "outputs": [
    {
     "name": "stdout",
     "output_type": "stream",
     "text": [
      "_________________________________________________________________\n",
      "Layer (type)                 Output Shape              Param #   \n",
      "=================================================================\n",
      "conv2d_1 (Conv2D)            (None, 75, 75, 32)        896       \n",
      "_________________________________________________________________\n",
      "conv2d_2 (Conv2D)            (None, 75, 75, 32)        9248      \n",
      "_________________________________________________________________\n",
      "batch_normalization_1 (Batch (None, 75, 75, 32)        128       \n",
      "_________________________________________________________________\n",
      "max_pooling2d_1 (MaxPooling2 (None, 37, 37, 32)        0         \n",
      "_________________________________________________________________\n",
      "dropout_1 (Dropout)          (None, 37, 37, 32)        0         \n",
      "_________________________________________________________________\n",
      "conv2d_3 (Conv2D)            (None, 37, 37, 64)        18496     \n",
      "_________________________________________________________________\n",
      "conv2d_4 (Conv2D)            (None, 37, 37, 64)        36928     \n",
      "_________________________________________________________________\n",
      "batch_normalization_2 (Batch (None, 37, 37, 64)        256       \n",
      "_________________________________________________________________\n",
      "max_pooling2d_2 (MaxPooling2 (None, 18, 18, 64)        0         \n",
      "_________________________________________________________________\n",
      "dropout_2 (Dropout)          (None, 18, 18, 64)        0         \n",
      "_________________________________________________________________\n",
      "conv2d_5 (Conv2D)            (None, 18, 18, 128)       73856     \n",
      "_________________________________________________________________\n",
      "conv2d_6 (Conv2D)            (None, 18, 18, 128)       147584    \n",
      "_________________________________________________________________\n",
      "batch_normalization_3 (Batch (None, 18, 18, 128)       512       \n",
      "_________________________________________________________________\n",
      "max_pooling2d_3 (MaxPooling2 (None, 9, 9, 128)         0         \n",
      "_________________________________________________________________\n",
      "dropout_3 (Dropout)          (None, 9, 9, 128)         0         \n",
      "_________________________________________________________________\n",
      "conv2d_7 (Conv2D)            (None, 9, 9, 256)         295168    \n",
      "_________________________________________________________________\n",
      "batch_normalization_4 (Batch (None, 9, 9, 256)         1024      \n",
      "_________________________________________________________________\n",
      "max_pooling2d_4 (MaxPooling2 (None, 4, 4, 256)         0         \n",
      "_________________________________________________________________\n",
      "dropout_4 (Dropout)          (None, 4, 4, 256)         0         \n",
      "_________________________________________________________________\n",
      "flatten_1 (Flatten)          (None, 4096)              0         \n",
      "_________________________________________________________________\n",
      "dense_1 (Dense)              (None, 128)               524416    \n",
      "_________________________________________________________________\n",
      "batch_normalization_5 (Batch (None, 128)               512       \n",
      "_________________________________________________________________\n",
      "dropout_5 (Dropout)          (None, 128)               0         \n",
      "_________________________________________________________________\n",
      "dense_2 (Dense)              (None, 96)                12384     \n",
      "_________________________________________________________________\n",
      "batch_normalization_6 (Batch (None, 96)                384       \n",
      "_________________________________________________________________\n",
      "dropout_6 (Dropout)          (None, 96)                0         \n",
      "_________________________________________________________________\n",
      "dense_3 (Dense)              (None, 1)                 97        \n",
      "_________________________________________________________________\n",
      "activation_1 (Activation)    (None, 1)                 0         \n",
      "=================================================================\n",
      "Total params: 1,121,889\n",
      "Trainable params: 1,120,481\n",
      "Non-trainable params: 1,408\n",
      "_________________________________________________________________\n"
     ]
    }
   ],
   "source": [
    "model.summary()"
   ]
  },
  {
   "cell_type": "code",
   "execution_count": 18,
   "metadata": {},
   "outputs": [
    {
     "data": {
      "image/png": "[encoded data removed]",
      "text/plain": [
       "<Figure size 432x288 with 1 Axes>"
      ]
     },
     "metadata": {},
     "output_type": "display_data"
    },
    {
     "name": "stdout",
     "output_type": "stream",
     "text": [
      "100500/100500 [==============================] - 40s 397us/step\n"
     ]
    }
   ],
   "source": [
    "\n",
    "model.load_weights(PREDICTION_FOLDER + '/best.h5')\n",
    "plt.plot(history.history['loss'])\n",
    "plt.plot(history.history['val_loss'])\n",
    "plt.legend(['training', 'validation'], loc = 'upper left')\n",
    "plt.show()\n",
    "\n",
    "results = model.evaluate(X_test, y_test)\n",
    "\n",
    "\n"
   ]
  },
  {
   "cell_type": "code",
   "execution_count": 19,
   "metadata": {},
   "outputs": [
    {
     "name": "stdout",
     "output_type": "stream",
     "text": [
      "Test loss:  0.012382846880611496\n"
     ]
    }
   ],
   "source": [
    "print('Test loss: ', results[0])"
   ]
  },
  {
   "cell_type": "code",
   "execution_count": null,
   "metadata": {},
   "outputs": [],
   "source": []
  }
 ],
 "metadata": {
  "kernelspec": {
   "display_name": "Python 3",
   "language": "python",
   "name": "python3"
  },
  "language_info": {
   "codemirror_mode": {
    "name": "ipython",
    "version": 3
   },
   "file_extension": ".py",
   "mimetype": "text/x-python",
   "name": "python",
   "nbconvert_exporter": "python",
   "pygments_lexer": "ipython3",
   "version": "3.5.4"
  }
 },
 "nbformat": 4,
 "nbformat_minor": 2
}
